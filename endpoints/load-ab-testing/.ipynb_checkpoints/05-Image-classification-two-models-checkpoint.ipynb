{
 "cells": [
  {
   "cell_type": "markdown",
   "metadata": {},
   "source": [
    "# Image classification with dual-model endpoint"
   ]
  },
  {
   "cell_type": "code",
   "execution_count": 5,
   "metadata": {},
   "outputs": [
    {
     "name": "stdout",
     "output_type": "stream",
     "text": [
      "811284229777.dkr.ecr.us-east-1.amazonaws.com/image-classification:latest\n"
     ]
    }
   ],
   "source": [
    "import boto3, time, os, urllib.request, numpy, json\n",
    "import time\n",
    "from time import gmtime, strftime\n",
    "import re\n",
    "from sagemaker import get_execution_role\n",
    "\n",
    "role = get_execution_role()\n",
    "\n",
    "bucket='ar51' # set to your own bucket\n",
    "\n",
    "containers = {'us-west-2': '433757028032.dkr.ecr.us-west-2.amazonaws.com/image-classification:latest',\n",
    "              'us-east-1': '811284229777.dkr.ecr.us-east-1.amazonaws.com/image-classification:latest',\n",
    "              'us-east-2': '825641698319.dkr.ecr.us-east-2.amazonaws.com/image-classification:latest',\n",
    "              'eu-west-1': '685385470294.dkr.ecr.eu-west-1.amazonaws.com/image-classification:latest'}\n",
    "\n",
    "training_image = containers[boto3.Session().region_name]\n",
    "print(training_image)\n",
    "\n",
    "s3 = boto3.client('s3')\n",
    "sagemaker = boto3.client(service_name='sagemaker')\n",
    "runtime = boto3.client(service_name='sagemaker-runtime')"
   ]
  },
  {
   "cell_type": "markdown",
   "metadata": {},
   "source": [
    "## Download the data set and upload it to S3"
   ]
  },
  {
   "cell_type": "code",
   "execution_count": 6,
   "metadata": {},
   "outputs": [],
   "source": [
    "def download(url):\n",
    "    filename = url.split(\"/\")[-1]\n",
    "    if not os.path.exists(filename):\n",
    "        urllib.request.urlretrieve(url, filename)\n",
    "\n",
    "        \n",
    "def upload_to_s3(channel, file):\n",
    "    s3 = boto3.resource('s3')\n",
    "    data = open(file, \"rb\")\n",
    "    key = channel + '/' + file\n",
    "    s3.Bucket(bucket).put_object(Key=key, Body=data)\n",
    "\n",
    "\n",
    "# # caltech-256\n",
    "download('http://data.mxnet.io/data/caltech-256/caltech-256-60-train.rec')\n",
    "download('http://data.mxnet.io/data/caltech-256/caltech-256-60-val.rec')\n",
    "upload_to_s3('validation', 'caltech-256-60-val.rec')\n",
    "upload_to_s3('train', 'caltech-256-60-train.rec')"
   ]
  },
  {
   "cell_type": "markdown",
   "metadata": {},
   "source": [
    "## Define common training parameters"
   ]
  },
  {
   "cell_type": "code",
   "execution_count": 7,
   "metadata": {},
   "outputs": [],
   "source": [
    "training_params = \\\n",
    "{\n",
    "    # specify the training docker image\n",
    "    \"AlgorithmSpecification\": {\n",
    "        \"TrainingImage\": training_image,\n",
    "        \"TrainingInputMode\": \"File\"\n",
    "    },\n",
    "    \"RoleArn\": role,\n",
    "    \"OutputDataConfig\": {\n",
    "        \"S3OutputPath\": '' # model-specific\n",
    "    },\n",
    "    \"ResourceConfig\": {\n",
    "        \"InstanceCount\": 1,\n",
    "        \"InstanceType\": \"ml.p3.2xlarge\",\n",
    "        \"VolumeSizeInGB\": 50\n",
    "    },\n",
    "    \"TrainingJobName\": \"\", # model-specific\n",
    "    \"HyperParameters\": {\n",
    "        \"image_shape\": \"3,224,224\",\n",
    "        \"num_layers\": \"18\",\n",
    "        \"num_training_samples\": \"15420\",\n",
    "        \"num_classes\": \"257\",\n",
    "        \"mini_batch_size\": \"128\",\n",
    "        \"epochs\": \"2\",\n",
    "        \"learning_rate\": \"\", # model-specific\n",
    "        \"use_pretrained_model\": \"1\"\n",
    "    },\n",
    "    \"StoppingCondition\": {\n",
    "        \"MaxRuntimeInSeconds\": 360000\n",
    "    },\n",
    "    \"InputDataConfig\": [\n",
    "        {\n",
    "            \"ChannelName\": \"train\",\n",
    "            \"DataSource\": {\n",
    "                \"S3DataSource\": {\n",
    "                    \"S3DataType\": \"S3Prefix\",\n",
    "                    \"S3Uri\": 's3://{}/train/'.format(bucket),\n",
    "                    \"S3DataDistributionType\": \"FullyReplicated\"\n",
    "                }\n",
    "            },\n",
    "            \"ContentType\": \"application/x-recordio\",\n",
    "            \"CompressionType\": \"None\"\n",
    "        },\n",
    "        {\n",
    "            \"ChannelName\": \"validation\",\n",
    "            \"DataSource\": {\n",
    "                \"S3DataSource\": {\n",
    "                    \"S3DataType\": \"S3Prefix\",\n",
    "                    \"S3Uri\": 's3://{}/validation/'.format(bucket),\n",
    "                    \"S3DataDistributionType\": \"FullyReplicated\"\n",
    "                }\n",
    "            },\n",
    "            \"ContentType\": \"application/x-recordio\",\n",
    "            \"CompressionType\": \"None\"\n",
    "        }\n",
    "    ]\n",
    "}"
   ]
  },
  {
   "cell_type": "markdown",
   "metadata": {},
   "source": [
    "## Train model A"
   ]
  },
  {
   "cell_type": "code",
   "execution_count": 8,
   "metadata": {},
   "outputs": [
    {
     "data": {
      "text/plain": [
       "{'TrainingJobArn': 'arn:aws:sagemaker:us-east-1:111652037296:training-job/demo-imageclassification-modela-2020-04-17-16-02-28',\n",
       " 'ResponseMetadata': {'RequestId': '2b120eb9-a71b-4c7a-845d-d1f8d7219234',\n",
       "  'HTTPStatusCode': 200,\n",
       "  'HTTPHeaders': {'x-amzn-requestid': '2b120eb9-a71b-4c7a-845d-d1f8d7219234',\n",
       "   'content-type': 'application/x-amz-json-1.1',\n",
       "   'content-length': '126',\n",
       "   'date': 'Fri, 17 Apr 2020 16:02:28 GMT'},\n",
       "  'RetryAttempts': 0}}"
      ]
     },
     "execution_count": 8,
     "metadata": {},
     "output_type": "execute_result"
    }
   ],
   "source": [
    "# Model A parameters\n",
    "job_name_prefix_modela = 'DEMO-imageclassification-modelA'\n",
    "timestamp = time.strftime('-%Y-%m-%d-%H-%M-%S', time.gmtime())\n",
    "job_name_modela = job_name_prefix_modela + timestamp\n",
    "s3_output_modela = 's3://{}/{}/output'.format(bucket, job_name_prefix_modela)\n",
    "\n",
    "# Model A hyper parameters\n",
    "lr_modela = '0.01'\n",
    "\n",
    "# Train model A\n",
    "training_params['TrainingJobName'] = job_name_modela\n",
    "training_params['OutputDataConfig']['S3OutputPath'] = s3_output_modela\n",
    "training_params['HyperParameters']['learning_rate'] = lr_modela\n",
    "\n",
    "sagemaker.create_training_job(**training_params)"
   ]
  },
  {
   "cell_type": "code",
   "execution_count": 9,
   "metadata": {},
   "outputs": [
    {
     "name": "stdout",
     "output_type": "stream",
     "text": [
      "Training job name: DEMO-imageclassification-modelA-2020-04-17-16-02-28\n",
      "Training job current status: InProgress\n"
     ]
    }
   ],
   "source": [
    "# confirm that the training job has started\n",
    "status = sagemaker.describe_training_job(TrainingJobName=job_name_modela)['TrainingJobStatus']\n",
    "print('Training job name: {}'.format(job_name_modela))\n",
    "print('Training job current status: {}'.format(status))"
   ]
  },
  {
   "cell_type": "markdown",
   "metadata": {},
   "source": [
    "## Train model B"
   ]
  },
  {
   "cell_type": "code",
   "execution_count": 10,
   "metadata": {},
   "outputs": [
    {
     "data": {
      "text/plain": [
       "{'TrainingJobArn': 'arn:aws:sagemaker:us-east-1:111652037296:training-job/demo-imageclassification-modelb-2020-04-17-16-02-31',\n",
       " 'ResponseMetadata': {'RequestId': '06c1c9f2-fa55-4f57-b2fa-6d50d04f30a1',\n",
       "  'HTTPStatusCode': 200,\n",
       "  'HTTPHeaders': {'x-amzn-requestid': '06c1c9f2-fa55-4f57-b2fa-6d50d04f30a1',\n",
       "   'content-type': 'application/x-amz-json-1.1',\n",
       "   'content-length': '126',\n",
       "   'date': 'Fri, 17 Apr 2020 16:02:31 GMT'},\n",
       "  'RetryAttempts': 0}}"
      ]
     },
     "execution_count": 10,
     "metadata": {},
     "output_type": "execute_result"
    }
   ],
   "source": [
    "# Model B parameters\n",
    "job_name_prefix_modelb = 'DEMO-imageclassification-modelB'\n",
    "timestamp = time.strftime('-%Y-%m-%d-%H-%M-%S', time.gmtime())\n",
    "job_name_modelb = job_name_prefix_modelb + timestamp\n",
    "s3_output_modelb = 's3://{}/{}/output'.format(bucket, job_name_prefix_modelb)\n",
    "\n",
    "# Model B hyper parameters\n",
    "lr_modelb = '0.001'\n",
    "\n",
    "# Train model B\n",
    "training_params['TrainingJobName'] = job_name_modelb\n",
    "training_params['OutputDataConfig']['S3OutputPath'] = s3_output_modelb\n",
    "training_params['HyperParameters']['learning_rate'] = lr_modelb\n",
    "\n",
    "sagemaker.create_training_job(**training_params)"
   ]
  },
  {
   "cell_type": "code",
   "execution_count": 11,
   "metadata": {},
   "outputs": [
    {
     "name": "stdout",
     "output_type": "stream",
     "text": [
      "Training job name: DEMO-imageclassification-modelB-2020-04-17-16-02-31\n",
      "Training job current status: InProgress\n"
     ]
    }
   ],
   "source": [
    "# confirm that the training job has started\n",
    "status = sagemaker.describe_training_job(TrainingJobName=job_name_modelb)['TrainingJobStatus']\n",
    "print('Training job name: {}'.format(job_name_modelb))\n",
    "print('Training job current status: {}'.format(status))"
   ]
  },
  {
   "cell_type": "markdown",
   "metadata": {},
   "source": [
    "## Create models"
   ]
  },
  {
   "cell_type": "code",
   "execution_count": 13,
   "metadata": {},
   "outputs": [
    {
     "name": "stdout",
     "output_type": "stream",
     "text": [
      "s3://ar51/DEMO-imageclassification-modelA/output/DEMO-imageclassification-modelA-2020-04-17-16-02-28/output/model.tar.gz\n",
      "arn:aws:sagemaker:us-east-1:111652037296:model/demo-imageclassification-modela-2020-04-17-16-02-28\n"
     ]
    }
   ],
   "source": [
    "# Create model A\n",
    "\n",
    "info = sagemaker.describe_training_job(TrainingJobName=job_name_modela)\n",
    "model_data = info['ModelArtifacts']['S3ModelArtifacts']\n",
    "print(model_data)\n",
    "\n",
    "hosting_image = containers[boto3.Session().region_name]\n",
    "primary_container = {\n",
    "    'Image': hosting_image,\n",
    "    'ModelDataUrl': model_data,\n",
    "}\n",
    "\n",
    "create_model_response = sagemaker.create_model(\n",
    "    ModelName = job_name_modela,\n",
    "    ExecutionRoleArn = role,\n",
    "    PrimaryContainer = primary_container)\n",
    "\n",
    "print(create_model_response['ModelArn'])"
   ]
  },
  {
   "cell_type": "code",
   "execution_count": 14,
   "metadata": {},
   "outputs": [
    {
     "name": "stdout",
     "output_type": "stream",
     "text": [
      "s3://ar51/DEMO-imageclassification-modelB/output/DEMO-imageclassification-modelB-2020-04-17-16-02-31/output/model.tar.gz\n",
      "arn:aws:sagemaker:us-east-1:111652037296:model/demo-imageclassification-modelb-2020-04-17-16-02-31\n"
     ]
    }
   ],
   "source": [
    "# Create model B\n",
    "\n",
    "info = sagemaker.describe_training_job(TrainingJobName=job_name_modelb)\n",
    "model_data = info['ModelArtifacts']['S3ModelArtifacts']\n",
    "print(model_data)\n",
    "\n",
    "hosting_image = containers[boto3.Session().region_name]\n",
    "primary_container = {\n",
    "    'Image': hosting_image,\n",
    "    'ModelDataUrl': model_data,\n",
    "}\n",
    "\n",
    "create_model_response = sagemaker.create_model(\n",
    "    ModelName = job_name_modelb,\n",
    "    ExecutionRoleArn = role,\n",
    "    PrimaryContainer = primary_container)\n",
    "\n",
    "print(create_model_response['ModelArn'])"
   ]
  },
  {
   "cell_type": "markdown",
   "metadata": {},
   "source": [
    "# Inference"
   ]
  },
  {
   "cell_type": "markdown",
   "metadata": {},
   "source": [
    "### Create Endpoint Configuration"
   ]
  },
  {
   "cell_type": "code",
   "execution_count": 15,
   "metadata": {},
   "outputs": [
    {
     "name": "stdout",
     "output_type": "stream",
     "text": [
      "Endpoint configuration name: DEMO-imageclassification-epc--2020-04-17-16-13-24\n",
      "Endpoint configuration arn:  arn:aws:sagemaker:us-east-1:111652037296:endpoint-config/demo-imageclassification-epc--2020-04-17-16-13-24\n"
     ]
    }
   ],
   "source": [
    "job_name_prefix = 'DEMO-imageclassification'\n",
    "\n",
    "timestamp = time.strftime('-%Y-%m-%d-%H-%M-%S', time.gmtime())\n",
    "endpoint_config_name = job_name_prefix + '-epc-' + timestamp\n",
    "\n",
    "endpoint_config_response = sagemaker.create_endpoint_config(\n",
    "    EndpointConfigName = endpoint_config_name,\n",
    "    ProductionVariants=[\n",
    "        {\n",
    "        'InstanceType':'ml.m4.xlarge',\n",
    "        'InitialInstanceCount':1,\n",
    "        'ModelName':job_name_modela,\n",
    "        'VariantName':'Model-A',\n",
    "        'InitialVariantWeight':1\n",
    "        },\n",
    "        {\n",
    "        'InstanceType':'ml.m4.xlarge',\n",
    "        'InitialInstanceCount':1,\n",
    "        'ModelName':job_name_modelb,\n",
    "        'VariantName':'Model-B',\n",
    "        'InitialVariantWeight':1\n",
    "        }\n",
    "    ])\n",
    "\n",
    "print('Endpoint configuration name: {}'.format(endpoint_config_name))\n",
    "print('Endpoint configuration arn:  {}'.format(endpoint_config_response['EndpointConfigArn']))"
   ]
  },
  {
   "cell_type": "markdown",
   "metadata": {},
   "source": [
    "### Create Endpoint"
   ]
  },
  {
   "cell_type": "code",
   "execution_count": 16,
   "metadata": {},
   "outputs": [
    {
     "name": "stdout",
     "output_type": "stream",
     "text": [
      "Endpoint name: DEMO-imageclassification-ep--2020-04-17-16-13-26\n",
      "EndpointArn = arn:aws:sagemaker:us-east-1:111652037296:endpoint/demo-imageclassification-ep--2020-04-17-16-13-26\n"
     ]
    }
   ],
   "source": [
    "timestamp = time.strftime('-%Y-%m-%d-%H-%M-%S', time.gmtime())\n",
    "endpoint_name = job_name_prefix + '-ep-' + timestamp\n",
    "print('Endpoint name: {}'.format(endpoint_name))\n",
    "\n",
    "endpoint_params = {\n",
    "    'EndpointName': endpoint_name,\n",
    "    'EndpointConfigName': endpoint_config_name,\n",
    "}\n",
    "endpoint_response = sagemaker.create_endpoint(**endpoint_params)\n",
    "print('EndpointArn = {}'.format(endpoint_response['EndpointArn']))"
   ]
  },
  {
   "cell_type": "code",
   "execution_count": 17,
   "metadata": {},
   "outputs": [
    {
     "name": "stdout",
     "output_type": "stream",
     "text": [
      "EndpointStatus = Creating\n"
     ]
    }
   ],
   "source": [
    "# get the status of the endpoint\n",
    "response = sagemaker.describe_endpoint(EndpointName=endpoint_name)\n",
    "status = response['EndpointStatus']\n",
    "print('EndpointStatus = {}'.format(status))"
   ]
  },
  {
   "cell_type": "markdown",
   "metadata": {},
   "source": [
    "## Perform Inference"
   ]
  },
  {
   "cell_type": "markdown",
   "metadata": {},
   "source": [
    "### Download test image"
   ]
  },
  {
   "cell_type": "code",
   "execution_count": 18,
   "metadata": {},
   "outputs": [
    {
     "name": "stdout",
     "output_type": "stream",
     "text": [
      "--2020-04-17 16:13:30--  http://www.vision.caltech.edu/Image_Datasets/Caltech256/images/008.bathtub/008_0007.jpg\n",
      "Resolving www.vision.caltech.edu (www.vision.caltech.edu)... 34.208.54.77\n",
      "Connecting to www.vision.caltech.edu (www.vision.caltech.edu)|34.208.54.77|:80... connected.\n",
      "HTTP request sent, awaiting response... 200 OK\n",
      "Length: 23750 (23K) [image/jpeg]\n",
      "Saving to: ‘/tmp/test.jpg’\n",
      "\n",
      "/tmp/test.jpg       100%[===================>]  23.19K  --.-KB/s    in 0.07s   \n",
      "\n",
      "2020-04-17 16:13:31 (325 KB/s) - ‘/tmp/test.jpg’ saved [23750/23750]\n",
      "\n"
     ]
    },
    {
     "data": {
      "image/jpeg": "[encoded data removed]",
      "text/plain": [
       "<IPython.core.display.Image object>"
      ]
     },
     "execution_count": 18,
     "metadata": {},
     "output_type": "execute_result"
    }
   ],
   "source": [
    "!wget -O /tmp/test.jpg http://www.vision.caltech.edu/Image_Datasets/Caltech256/images/008.bathtub/008_0007.jpg\n",
    "file_name = '/tmp/test.jpg'\n",
    "# test image\n",
    "from IPython.display import Image\n",
    "Image(file_name)  "
   ]
  },
  {
   "cell_type": "code",
   "execution_count": 22,
   "metadata": {},
   "outputs": [
    {
     "name": "stdout",
     "output_type": "stream",
     "text": [
      "[0.003642966505140066, 0.001888476894237101, 0.000527330907061696, 0.0026867156848311424, 0.0033936111722141504, 0.0025034602731466293, 0.0033778678625822067, 0.0018172627314925194, 0.005772801581770182, 0.0012887961929664016, 0.0037988179828971624, 0.000869322509970516, 0.0019296506652608514, 0.010377633385360241, 0.0013111303560435772, 0.0019143179524689913, 0.010567311197519302, 0.010630078613758087, 0.00509607931599021, 0.00262591615319252, 0.005388994701206684, 0.00012606105883605778, 0.012074315920472145, 0.0009653333108872175, 0.0029823370277881622, 0.001375039224512875, 0.00257681030780077, 0.0014610278885811567, 0.000430478248745203, 0.0027042946312576532, 0.00213369308039546, 0.0017659717705100775, 0.006652878597378731, 0.0033678803592920303, 0.0028958397451788187, 0.002751220017671585, 0.023457836359739304, 0.0006678772042505443, 0.0012459811987355351, 0.019810575991868973, 0.021931596100330353, 0.004793815314769745, 0.0010105744004249573, 0.0005449022864922881, 0.004765309859067202, 0.0029787037055939436, 0.0021328721195459366, 0.0011021220125257969, 0.0014156913384795189, 0.0030296510085463524, 0.0022967681288719177, 0.0011480459943413734, 0.0029588404577225447, 0.0018575740978121758, 0.0024403869174420834, 0.006416759453713894, 0.006812305189669132, 0.004957723896950483, 0.01832272671163082, 0.002241766545921564, 0.002560440683737397, 0.00017708979430608451, 0.012827335856854916, 0.009165043942630291, 0.0010115931509062648, 0.0014811805449426174, 0.00824838038533926, 0.0014443317195400596, 0.0058224862441420555, 0.002542582806199789, 0.004264762159436941, 0.0023521382827311754, 0.00987071730196476, 0.00042833833140321076, 0.004807951394468546, 0.0030287837143987417, 0.0012477380223572254, 0.0028032802511006594, 0.0008001616224646568, 0.00071907346136868, 0.00341808027587831, 0.001807180349715054, 0.0032517220824956894, 0.0021691282745450735, 0.005374465137720108, 0.002509321318939328, 0.0008757259347476065, 0.002170003717765212, 0.0036064425949007273, 0.003459111088886857, 0.002896816236898303, 0.003099223831668496, 0.0030108019709587097, 0.005132279358804226, 0.004855953622609377, 0.0033759179059416056, 0.0012728244764730334, 0.0020878370851278305, 0.0061720325611531734, 0.0005660691531375051, 0.0011557720135897398, 0.000428743107477203, 0.0071592130698263645, 0.001559714786708355, 0.0028247153386473656, 0.0036838671658188105, 0.0016623471165075898, 0.014545288868248463, 0.008184040896594524, 0.000281714485026896, 0.0030163589399307966, 0.0006982595659792423, 0.0008408372523263097, 0.001238421886228025, 0.00021165070938877761, 0.00036121284938417375, 0.03297729045152664, 0.008226696401834488, 0.0005620353040285408, 0.0035052380990236998, 0.0009154583094641566, 0.002680295379832387, 0.002364472020417452, 0.002466191304847598, 0.0020429331343621016, 0.0018518383149057627, 0.005775491241365671, 0.0008704022038727999, 0.002294445876032114, 0.006787749473005533, 0.008205712772905827, 0.004122079815715551, 0.005495872814208269, 0.013111518695950508, 0.001871115411631763, 0.0002581612498033792, 0.0015922145685181022, 0.004441270139068365, 0.001253100112080574, 0.0003126806113868952, 0.0005117899272590876, 0.002272350247949362, 0.0011997526744380593, 0.0037814041133970022, 0.004660558421164751, 0.0013531551230698824, 0.0017047752626240253, 0.0019301626598462462, 0.0006045569898560643, 0.0004002828791271895, 0.0013548345305025578, 0.004004921298474073, 0.004323702771216631, 0.0007980259251780808, 0.000557988416403532, 0.015624000690877438, 0.0005219348822720349, 0.0017598042031750083, 0.0032157422974705696, 0.0014965926529839635, 0.0026423269882798195, 0.005961490795016289, 0.002612452255561948, 0.0051042172126472, 0.0007326104096136987, 0.00047317985445261, 0.009175540879368782, 0.0006535039865411818, 0.002990799257531762, 0.005281124729663134, 0.008298312313854694, 0.0019102266523987055, 0.0013005194487050176, 0.002114336472004652, 0.001357894972898066, 0.002330876188352704, 0.0005746830138377845, 0.0003491206152830273, 0.006199318449944258, 0.0025514091830700636, 0.0015774598577991128, 0.0019104451639577746, 0.0028447972144931555, 0.005498507060110569, 0.0013575719203799963, 0.0034857301507145166, 0.0059860264882445335, 0.0023723882623016834, 0.008331548422574997, 0.007009627763181925, 0.00045686151133850217, 0.0009686675039120018, 0.0024571313988417387, 0.0009254212491214275, 0.0012115408899262547, 0.002431278582662344, 0.004214619752019644, 0.07750412076711655, 0.011341515928506851, 0.0010640284745022655, 0.0005283515201881528, 0.0015307407593354583, 0.00044610726763494313, 0.000656643882393837, 0.00991138070821762, 0.0006191852735355496, 0.0002800101647153497, 0.009672999382019043, 0.008699974976480007, 0.002400849014520645, 0.004968952387571335, 0.002556954277679324, 0.008516202680766582, 0.002672420581802726, 0.0019659101963043213, 0.010488932952284813, 0.00753301614895463, 0.0017190900398418307, 0.0006530722021125257, 0.001578986062668264, 0.00952156726270914, 0.0023269769735634327, 0.005621529649943113, 0.0012712293537333608, 0.003383882576599717, 0.0019461337942630053, 0.005905102472752333, 0.0022975069005042315, 0.002277026418596506, 0.0029596497770398855, 0.0010524558601900935, 0.007728708442300558, 0.0008175619295798242, 0.0011901414254680276, 0.0028213104233145714, 0.0020810654386878014, 0.0014587084297090769, 0.0014526749728247523, 0.003846061183139682, 0.006057481747120619, 0.0006023910245858133, 0.005108227953314781, 0.002249534009024501, 0.0022004004567861557, 0.0002287961688125506, 0.001276266179047525, 0.003720756620168686, 0.0008299679611809552, 0.00024153146659955382, 0.0009731583413667977, 0.006769646890461445, 0.0007816259167157114, 0.0006724443519487977, 0.0015042758313938975, 0.0013589177979156375, 0.005331328604370356, 0.002531661419197917]\n",
      "Result: label - spider, probability - 0.07750412076711655\n"
     ]
    }
   ],
   "source": [
    "with open(file_name, 'rb') as f:\n",
    "    payload = f.read()\n",
    "    payload = bytearray(payload)\n",
    "\n",
    "response = runtime.invoke_endpoint(EndpointName=endpoint_name, ContentType='application/x-image', Body=payload)\n",
    "\n",
    "result = response['Body'].read()\n",
    "# result will be in json format and convert it to ndarray\n",
    "result = json.loads(result)\n",
    "print(result)\n",
    "# the result will output the probabilities for all classes\n",
    "# find the class with maximum probability and print the class index\n",
    "index = numpy.argmax(result)\n",
    "object_categories = ['ak47', 'american-flag', 'backpack', 'baseball-bat', 'baseball-glove', 'basketball-hoop', 'bat', 'bathtub', 'bear', 'beer-mug', 'billiards', 'binoculars', 'birdbath', 'blimp', 'bonsai-101', 'boom-box', 'bowling-ball', 'bowling-pin', 'boxing-glove', 'brain-101', 'breadmaker', 'buddha-101', 'bulldozer', 'butterfly', 'cactus', 'cake', 'calculator', 'camel', 'cannon', 'canoe', 'car-tire', 'cartman', 'cd', 'centipede', 'cereal-box', 'chandelier-101', 'chess-board', 'chimp', 'chopsticks', 'cockroach', 'coffee-mug', 'coffin', 'coin', 'comet', 'computer-keyboard', 'computer-monitor', 'computer-mouse', 'conch', 'cormorant', 'covered-wagon', 'cowboy-hat', 'crab-101', 'desk-globe', 'diamond-ring', 'dice', 'dog', 'dolphin-101', 'doorknob', 'drinking-straw', 'duck', 'dumb-bell', 'eiffel-tower', 'electric-guitar-101', 'elephant-101', 'elk', 'ewer-101', 'eyeglasses', 'fern', 'fighter-jet', 'fire-extinguisher', 'fire-hydrant', 'fire-truck', 'fireworks', 'flashlight', 'floppy-disk', 'football-helmet', 'french-horn', 'fried-egg', 'frisbee', 'frog', 'frying-pan', 'galaxy', 'gas-pump', 'giraffe', 'goat', 'golden-gate-bridge', 'goldfish', 'golf-ball', 'goose', 'gorilla', 'grand-piano-101', 'grapes', 'grasshopper', 'guitar-pick', 'hamburger', 'hammock', 'harmonica', 'harp', 'harpsichord', 'hawksbill-101', 'head-phones', 'helicopter-101', 'hibiscus', 'homer-simpson', 'horse', 'horseshoe-crab', 'hot-air-balloon', 'hot-dog', 'hot-tub', 'hourglass', 'house-fly', 'human-skeleton', 'hummingbird', 'ibis-101', 'ice-cream-cone', 'iguana', 'ipod', 'iris', 'jesus-christ', 'joy-stick', 'kangaroo-101', 'kayak', 'ketch-101', 'killer-whale', 'knife', 'ladder', 'laptop-101', 'lathe', 'leopards-101', 'license-plate', 'lightbulb', 'light-house', 'lightning', 'llama-101', 'mailbox', 'mandolin', 'mars', 'mattress', 'megaphone', 'menorah-101', 'microscope', 'microwave', 'minaret', 'minotaur', 'motorbikes-101', 'mountain-bike', 'mushroom', 'mussels', 'necktie', 'octopus', 'ostrich', 'owl', 'palm-pilot', 'palm-tree', 'paperclip', 'paper-shredder', 'pci-card', 'penguin', 'people', 'pez-dispenser', 'photocopier', 'picnic-table', 'playing-card', 'porcupine', 'pram', 'praying-mantis', 'pyramid', 'raccoon', 'radio-telescope', 'rainbow', 'refrigerator', 'revolver-101', 'rifle', 'rotary-phone', 'roulette-wheel', 'saddle', 'saturn', 'school-bus', 'scorpion-101', 'screwdriver', 'segway', 'self-propelled-lawn-mower', 'sextant', 'sheet-music', 'skateboard', 'skunk', 'skyscraper', 'smokestack', 'snail', 'snake', 'sneaker', 'snowmobile', 'soccer-ball', 'socks', 'soda-can', 'spaghetti', 'speed-boat', 'spider', 'spoon', 'stained-glass', 'starfish-101', 'steering-wheel', 'stirrups', 'sunflower-101', 'superman', 'sushi', 'swan', 'swiss-army-knife', 'sword', 'syringe', 'tambourine', 'teapot', 'teddy-bear', 'teepee', 'telephone-box', 'tennis-ball', 'tennis-court', 'tennis-racket', 'theodolite', 'toaster', 'tomato', 'tombstone', 'top-hat', 'touring-bike', 'tower-pisa', 'traffic-light', 'treadmill', 'triceratops', 'tricycle', 'trilobite-101', 'tripod', 't-shirt', 'tuning-fork', 'tweezer', 'umbrella-101', 'unicorn', 'vcr', 'video-projector', 'washing-machine', 'watch-101', 'waterfall', 'watermelon', 'welding-mask', 'wheelbarrow', 'windmill', 'wine-bottle', 'xylophone', 'yarmulke', 'yo-yo', 'zebra', 'airplanes-101', 'car-side-101', 'faces-easy-101', 'greyhound', 'tennis-shoes', 'toad', 'clutter']\n",
    "print(\"Result: label - \" + object_categories[index] + \", probability - \" + str(result[index]))"
   ]
  },
  {
   "cell_type": "code",
   "execution_count": 43,
   "metadata": {},
   "outputs": [],
   "source": [
    "import os\n",
    "import random\n",
    "\n",
    "path ='/home/ec2-user/SageMaker/datasets/256_ObjectCategoriesimage'\n",
    "files = os.listdir(path)\n",
    "\n",
    "for i in range(1000):\n",
    "    index = random.randrange(0, len(files))\n",
    "    #print(files[index])\n",
    "    file_name = path + '/' + files[index]\n",
    "    with open(file_name, 'rb') as f:\n",
    "        payload = f.read()\n",
    "        payload = bytearray(payload)\n",
    "\n",
    "    response = runtime.invoke_endpoint(EndpointName=endpoint_name, ContentType='application/x-image', Body=payload)\n",
    "\n"
   ]
  },
  {
   "cell_type": "code",
   "execution_count": 53,
   "metadata": {},
   "outputs": [
    {
     "name": "stdout",
     "output_type": "stream",
     "text": [
      "{'ResponseMetadata': {'RequestId': 'bc891b3a-4055-42d5-a012-4589fa741f62', 'HTTPStatusCode': 200, 'HTTPHeaders': {'x-amzn-requestid': 'bc891b3a-4055-42d5-a012-4589fa741f62', 'content-type': 'application/x-amz-json-1.1', 'content-length': '2', 'date': 'Fri, 17 Apr 2020 18:20:52 GMT'}, 'RetryAttempts': 0}}\n"
     ]
    }
   ],
   "source": [
    "import boto3\n",
    "\n",
    "client = boto3.client('application-autoscaling')\n",
    "\n",
    "response = client.register_scalable_target(\n",
    "    ServiceNamespace='sagemaker',\n",
    "    ResourceId='endpoint/DEMO-imageclassification-ep--2020-04-17-16-13-26/variant/Model-A',\n",
    "    ScalableDimension='sagemaker:variant:DesiredInstanceCount',\n",
    "    MinCapacity=1,\n",
    "    MaxCapacity=4\n",
    ")\n",
    "\n",
    "print(response)"
   ]
  },
  {
   "cell_type": "code",
   "execution_count": 54,
   "metadata": {},
   "outputs": [
    {
     "name": "stdout",
     "output_type": "stream",
     "text": [
      "{'PolicyARN': 'arn:aws:autoscaling:us-east-1:111652037296:scalingPolicy:ea8799af-9e7a-4e1a-a2d2-9160ebc9575f:resource/sagemaker/endpoint/DEMO-imageclassification-ep--2020-04-17-16-13-26/variant/Model-A:policyName/DEMO-imageclassification-ScalingPolicy', 'Alarms': [{'AlarmName': 'TargetTracking-endpoint/DEMO-imageclassification-ep--2020-04-17-16-13-26/variant/Model-A-AlarmHigh-823af71b-7fb8-4dd1-8a6e-df4099356263', 'AlarmARN': 'arn:aws:cloudwatch:us-east-1:111652037296:alarm:TargetTracking-endpoint/DEMO-imageclassification-ep--2020-04-17-16-13-26/variant/Model-A-AlarmHigh-823af71b-7fb8-4dd1-8a6e-df4099356263'}, {'AlarmName': 'TargetTracking-endpoint/DEMO-imageclassification-ep--2020-04-17-16-13-26/variant/Model-A-AlarmLow-be6f63b6-a5c3-4ff0-a488-f04cfa605d1a', 'AlarmARN': 'arn:aws:cloudwatch:us-east-1:111652037296:alarm:TargetTracking-endpoint/DEMO-imageclassification-ep--2020-04-17-16-13-26/variant/Model-A-AlarmLow-be6f63b6-a5c3-4ff0-a488-f04cfa605d1a'}], 'ResponseMetadata': {'RequestId': '54021fe4-34ec-4892-a8af-030360c7c27c', 'HTTPStatusCode': 200, 'HTTPHeaders': {'x-amzn-requestid': '54021fe4-34ec-4892-a8af-030360c7c27c', 'content-type': 'application/x-amz-json-1.1', 'content-length': '959', 'date': 'Fri, 17 Apr 2020 18:20:56 GMT'}, 'RetryAttempts': 0}}\n"
     ]
    }
   ],
   "source": [
    "response = client.put_scaling_policy(\n",
    "    PolicyName='DEMO-imageclassification-ScalingPolicy',\n",
    "    ServiceNamespace='sagemaker',\n",
    "    ResourceId='endpoint/DEMO-imageclassification-ep--2020-04-17-16-13-26/variant/Model-A',\n",
    "    ScalableDimension='sagemaker:variant:DesiredInstanceCount',\n",
    "    PolicyType='TargetTrackingScaling',\n",
    "    TargetTrackingScalingPolicyConfiguration={\n",
    "        'TargetValue': 5.0,\n",
    "        'PredefinedMetricSpecification': {\n",
    "            'PredefinedMetricType': 'SageMakerVariantInvocationsPerInstance',\n",
    "        },\n",
    "        'ScaleInCooldown': 600,\n",
    "        'ScaleOutCooldown': 300\n",
    "    }\n",
    ")\n",
    "\n",
    "print(response)"
   ]
  },
  {
   "cell_type": "code",
   "execution_count": 55,
   "metadata": {},
   "outputs": [
    {
     "name": "stdout",
     "output_type": "stream",
     "text": [
      "{'ResponseMetadata': {'RequestId': 'c23bfbb9-bceb-481e-84e1-aabeeaa11471', 'HTTPStatusCode': 200, 'HTTPHeaders': {'x-amzn-requestid': 'c23bfbb9-bceb-481e-84e1-aabeeaa11471', 'content-type': 'application/x-amz-json-1.1', 'content-length': '2', 'date': 'Fri, 17 Apr 2020 18:20:57 GMT'}, 'RetryAttempts': 0}}\n"
     ]
    }
   ],
   "source": [
    "response = client.register_scalable_target(\n",
    "    ServiceNamespace='sagemaker',\n",
    "    ResourceId='endpoint/DEMO-imageclassification-ep--2020-04-17-16-13-26/variant/Model-B',\n",
    "    ScalableDimension='sagemaker:variant:DesiredInstanceCount',\n",
    "    MinCapacity=1,\n",
    "    MaxCapacity=3\n",
    ")\n",
    "\n",
    "print(response)"
   ]
  },
  {
   "cell_type": "code",
   "execution_count": 56,
   "metadata": {},
   "outputs": [
    {
     "name": "stdout",
     "output_type": "stream",
     "text": [
      "{'PolicyARN': 'arn:aws:autoscaling:us-east-1:111652037296:scalingPolicy:05e14d83-02da-46c1-967b-690f6f08308e:resource/sagemaker/endpoint/DEMO-imageclassification-ep--2020-04-17-16-13-26/variant/Model-B:policyName/DEMO-imageclassification-ScalingPolicy', 'Alarms': [{'AlarmName': 'TargetTracking-endpoint/DEMO-imageclassification-ep--2020-04-17-16-13-26/variant/Model-B-AlarmHigh-f3521aae-35d3-4352-bd8a-6f7568daa82e', 'AlarmARN': 'arn:aws:cloudwatch:us-east-1:111652037296:alarm:TargetTracking-endpoint/DEMO-imageclassification-ep--2020-04-17-16-13-26/variant/Model-B-AlarmHigh-f3521aae-35d3-4352-bd8a-6f7568daa82e'}, {'AlarmName': 'TargetTracking-endpoint/DEMO-imageclassification-ep--2020-04-17-16-13-26/variant/Model-B-AlarmLow-f248495b-b82d-4138-9ef5-4f1f0345b1a5', 'AlarmARN': 'arn:aws:cloudwatch:us-east-1:111652037296:alarm:TargetTracking-endpoint/DEMO-imageclassification-ep--2020-04-17-16-13-26/variant/Model-B-AlarmLow-f248495b-b82d-4138-9ef5-4f1f0345b1a5'}], 'ResponseMetadata': {'RequestId': 'ac0a85a8-207c-4cad-9e0a-28a3db38f12d', 'HTTPStatusCode': 200, 'HTTPHeaders': {'x-amzn-requestid': 'ac0a85a8-207c-4cad-9e0a-28a3db38f12d', 'content-type': 'application/x-amz-json-1.1', 'content-length': '959', 'date': 'Fri, 17 Apr 2020 18:20:58 GMT'}, 'RetryAttempts': 0}}\n"
     ]
    }
   ],
   "source": [
    "response = client.put_scaling_policy(\n",
    "    PolicyName='DEMO-imageclassification-ScalingPolicy',\n",
    "    ServiceNamespace='sagemaker',\n",
    "    ResourceId='endpoint/DEMO-imageclassification-ep--2020-04-17-16-13-26/variant/Model-B',\n",
    "    ScalableDimension='sagemaker:variant:DesiredInstanceCount',\n",
    "    PolicyType='TargetTrackingScaling',\n",
    "    TargetTrackingScalingPolicyConfiguration={\n",
    "        'TargetValue': 5.0,\n",
    "        'PredefinedMetricSpecification': {\n",
    "            'PredefinedMetricType': 'SageMakerVariantInvocationsPerInstance',\n",
    "        },\n",
    "        'ScaleInCooldown': 600,\n",
    "        'ScaleOutCooldown': 300\n",
    "    }\n",
    ")\n",
    "\n",
    "print(response)"
   ]
  },
  {
   "cell_type": "code",
   "execution_count": null,
   "metadata": {},
   "outputs": [],
   "source": [
    "import os\n",
    "import random\n",
    "\n",
    "path ='/home/ec2-user/SageMaker/datasets/256_ObjectCategoriesimage'\n",
    "files = os.listdir(path)\n",
    "\n",
    "while True:\n",
    "    index = random.randrange(0, len(files))\n",
    "    #print(files[index])\n",
    "    file_name = path + '/' + files[index]\n",
    "    with open(file_name, 'rb') as f:\n",
    "        payload = f.read()\n",
    "        payload = bytearray(payload)\n",
    "\n",
    "    response = runtime.invoke_endpoint(EndpointName=endpoint_name, ContentType='application/x-image', Body=payload)\n",
    "\n"
   ]
  },
  {
   "cell_type": "code",
   "execution_count": null,
   "metadata": {},
   "outputs": [],
   "source": []
  },
  {
   "cell_type": "markdown",
   "metadata": {},
   "source": [
    "### Clean up\n",
    "\n",
    "When we're done with the endpoint, we can just delete it and the backing instances will be released.  Run the following cell to delete the endpoint."
   ]
  },
  {
   "cell_type": "code",
   "execution_count": null,
   "metadata": {
    "collapsed": true,
    "jupyter": {
     "outputs_hidden": true
    }
   },
   "outputs": [],
   "source": [
    "#sage.delete_endpoint(EndpointName=endpoint_name)"
   ]
  },
  {
   "cell_type": "code",
   "execution_count": null,
   "metadata": {
    "collapsed": true,
    "jupyter": {
     "outputs_hidden": true
    }
   },
   "outputs": [],
   "source": []
  }
 ],
 "metadata": {
  "kernelspec": {
   "display_name": "conda_mxnet_p36",
   "language": "python",
   "name": "conda_mxnet_p36"
  },
  "language_info": {
   "codemirror_mode": {
    "name": "ipython",
    "version": 3
   },
   "file_extension": ".py",
   "mimetype": "text/x-python",
   "name": "python",
   "nbconvert_exporter": "python",
   "pygments_lexer": "ipython3",
   "version": "3.6.5"
  }
 },
 "nbformat": 4,
 "nbformat_minor": 4
}
